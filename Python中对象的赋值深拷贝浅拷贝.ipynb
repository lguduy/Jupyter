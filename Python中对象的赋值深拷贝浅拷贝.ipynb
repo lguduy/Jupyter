{
 "cells": [
  {
   "cell_type": "markdown",
   "metadata": {},
   "source": [
    "# Python中对象的赋值浅拷贝深拷贝\n",
    "\n",
    "## 赋值"
   ]
  },
  {
   "cell_type": "code",
   "execution_count": 2,
   "metadata": {},
   "outputs": [
    {
     "name": "stdout",
     "output_type": "stream",
     "text": [
      "['hello', 28, ['Python', 'Java', 'JS']]\n",
      "140093550830080\n",
      "[140093513003296, 16961264, 140093551425872]\n",
      "['hello', 28, ['Python', 'Java', 'JS']]\n",
      "140093550830080\n",
      "[140093513003296, 16961264, 140093551425872]\n"
     ]
    }
   ],
   "source": [
    "a = ['hello', 28, ['Python', 'Java', 'JS']]\n",
    "print a\n",
    "print id(a)\n",
    "print [id(x) for x in a]\n",
    "\n",
    "b = a\n",
    "print b\n",
    "print id(b)\n",
    "print [id(x) for x in b]"
   ]
  },
  {
   "cell_type": "markdown",
   "metadata": {},
   "source": [
    "修改a中的元素，其中str和int是Python中不可变对象，需要开辟新的空间；list是可变对象，不需要开辟新的空间。"
   ]
  },
  {
   "cell_type": "code",
   "execution_count": 3,
   "metadata": {},
   "outputs": [
    {
     "name": "stdout",
     "output_type": "stream",
     "text": [
      "['world', 30, ['Python', 'Java', 'JS', 'R']]\n",
      "140093550830080\n",
      "[140093381307968, 16961216, 140093551425872]\n",
      "['world', 30, ['Python', 'Java', 'JS', 'R']]\n",
      "140093550830080\n",
      "[140093381307968, 16961216, 140093551425872]\n"
     ]
    }
   ],
   "source": [
    "a[0], a[1] = 'world', 30\n",
    "a[2].append('R')\n",
    "\n",
    "print a\n",
    "print id(a)\n",
    "print [id(x) for x in a]\n",
    "\n",
    "print b\n",
    "print id(b)\n",
    "print [id(x) for x in b]"
   ]
  },
  {
   "cell_type": "markdown",
   "metadata": {},
   "source": [
    "### 小结\n",
    "\n",
    "1. 赋值是将一个对象的**地址**赋值给一个变量，让变量指向该地址（ 旧瓶装旧酒 ）；\n",
    "2. 修改不可变对象（str、tuple）需要开辟新的空间，就有新的地址；\n",
    "3. 修改可变对象（list等）不需要开辟新的空间。"
   ]
  },
  {
   "cell_type": "markdown",
   "metadata": {},
   "source": [
    "## 浅拷贝"
   ]
  },
  {
   "cell_type": "code",
   "execution_count": 4,
   "metadata": {},
   "outputs": [
    {
     "name": "stdout",
     "output_type": "stream",
     "text": [
      "['hello', 28, ['Python', 'Java', 'JS']]\n",
      "140093513145160\n",
      "[140093381306144, 16961264, 140093550769720]\n",
      "['hello', 28, ['Python', 'Java', 'JS']]\n",
      "140093551426088\n",
      "[140093381306144, 16961264, 140093550769720]\n"
     ]
    }
   ],
   "source": [
    "a = ['hello', 28, ['Python', 'Java', 'JS']]\n",
    "print a\n",
    "print id(a)\n",
    "print [id(x) for x in a]\n",
    "\n",
    "# 切片是浅拷贝\n",
    "b = a[:]\n",
    "print b\n",
    "print id(b)\n",
    "print [id(x) for x in b]"
   ]
  },
  {
   "cell_type": "code",
   "execution_count": 5,
   "metadata": {},
   "outputs": [
    {
     "name": "stdout",
     "output_type": "stream",
     "text": [
      "['world', 30, ['Python', 'Java', 'JS', 'R']]\n",
      "140093513145160\n",
      "[140093381307776, 16961216, 140093550769720]\n",
      "['hello', 28, ['Python', 'Java', 'JS', 'R']]\n",
      "140093551426088\n",
      "[140093381306144, 16961264, 140093550769720]\n"
     ]
    }
   ],
   "source": [
    "a[0], a[1] = 'world', 30\n",
    "a[2].append('R')\n",
    "\n",
    "print a\n",
    "print id(a)\n",
    "print [id(x) for x in a]\n",
    "\n",
    "print b\n",
    "print id(b)\n",
    "print [id(x) for x in b]"
   ]
  },
  {
   "cell_type": "markdown",
   "metadata": {},
   "source": [
    "### 小结\n",
    "\n",
    "1. 浅拷贝是在另一块地址中创建一个新的变量或容器，但是容器内的元素的地址均是源对象的元素的**地址的拷贝**。也就是说新的容器中指向了旧的元素（ 新瓶装旧酒 ）；\n",
    "2. 使用切片[:]操作，使用工厂函数（如list/dir/set），使用copy模块中的copy()函数都是实现的浅拷贝。\n",
    "\n",
    "## 深拷贝"
   ]
  },
  {
   "cell_type": "code",
   "execution_count": 9,
   "metadata": {},
   "outputs": [
    {
     "name": "stdout",
     "output_type": "stream",
     "text": [
      "['hello', 28, ['Python', 'Java', 'JS']]\n",
      "140093379818416\n",
      "[140093381306144, 16961264, 140093550829864]\n",
      "['hello', 28, ['Python', 'Java', 'JS']]\n",
      "140093380855136\n",
      "[140093381306144, 16961264, 140093508042408]\n"
     ]
    }
   ],
   "source": [
    "a = ['hello', 28, ['Python', 'Java', 'JS']]\n",
    "print a\n",
    "print id(a)\n",
    "print [id(x) for x in a]\n",
    "\n",
    "import copy\n",
    "\n",
    "b = copy.deepcopy(a)\n",
    "print b\n",
    "print id(b)\n",
    "print [id(x) for x in b]"
   ]
  },
  {
   "cell_type": "markdown",
   "metadata": {},
   "source": [
    "### 注意\n",
    "\n",
    "原来对于深拷贝的设想是：新建一个对象b（有新的地址），这一点和浅拷贝相同，而且对于a中的元素都要重新拷贝一份（有新的地址，而不是对a中元素地址的引用），但是实际上对于不可变对象‘hello’, 28地址并没有变。\n",
    "\n",
    "**拷贝有一些特殊情况：对于非容器类型（如数字、字符串、和其他’原子’类型的对象）没有拷贝这一说**"
   ]
  },
  {
   "cell_type": "code",
   "execution_count": 10,
   "metadata": {},
   "outputs": [
    {
     "name": "stdout",
     "output_type": "stream",
     "text": [
      "['world', 30, ['Python', 'Java', 'JS', 'R']]\n",
      "140093379818416\n",
      "[140093381305088, 16961216, 140093550829864]\n",
      "['hello', 28, ['Python', 'Java', 'JS']]\n",
      "140093380855136\n",
      "[140093381306144, 16961264, 140093508042408]\n"
     ]
    }
   ],
   "source": [
    "a[0], a[1] = 'world', 30\n",
    "a[2].append('R')\n",
    "\n",
    "print a\n",
    "print id(a)\n",
    "print [id(x) for x in a]\n",
    "\n",
    "print b\n",
    "print id(b)\n",
    "print [id(x) for x in b]"
   ]
  },
  {
   "cell_type": "markdown",
   "metadata": {},
   "source": [
    "### 小结\n",
    "\n",
    "对于**可变对象、不可变对象**要注意区分。\n",
    "\n",
    "### 对象内都是不可变类型"
   ]
  },
  {
   "cell_type": "code",
   "execution_count": 25,
   "metadata": {},
   "outputs": [
    {
     "name": "stdout",
     "output_type": "stream",
     "text": [
      "140093381192736\n",
      "[16961912, 16961888, 16961864]\n",
      "140093381192736\n",
      "[16961912, 16961888, 16961864]\n",
      "[16961840, 16961888, 16961864]\n",
      "[16961840, 16961888, 16961864]\n",
      "[4, 2, 3]\n",
      "[4, 2, 3]\n"
     ]
    }
   ],
   "source": [
    "a = [1, 2, 3]    # a本身是可变对象list\n",
    "print id(a)\n",
    "print [id(x) for x in a]\n",
    "\n",
    "# 赋值\n",
    "b = a\n",
    "print id(b)\n",
    "print [id(x) for x in b]\n",
    "\n",
    "a[0] = 4    # 修改a中的元素\n",
    "print [id(x) for x in a]\n",
    "print [id(x) for x in b]\n",
    "print a\n",
    "print b"
   ]
  },
  {
   "cell_type": "code",
   "execution_count": 26,
   "metadata": {},
   "outputs": [
    {
     "name": "stdout",
     "output_type": "stream",
     "text": [
      "140093380989800\n",
      "[16961912, 16961888, 16961864]\n",
      "140093380854992\n",
      "[16961912, 16961888, 16961864]\n",
      "[16961840, 16961888, 16961864]\n",
      "[16961912, 16961888, 16961864]\n",
      "[4, 2, 3]\n",
      "[1, 2, 3]\n"
     ]
    }
   ],
   "source": [
    "a = [1, 2, 3]\n",
    "print id(a)\n",
    "print [id(x) for x in a]\n",
    "\n",
    "# 浅拷贝\n",
    "b = a[:]\n",
    "print id(b)\n",
    "print [id(x) for x in b]\n",
    "\n",
    "a[0] = 4\n",
    "print [id(x) for x in a]\n",
    "print [id(x) for x in b]\n",
    "print a\n",
    "print b"
   ]
  },
  {
   "cell_type": "code",
   "execution_count": 27,
   "metadata": {},
   "outputs": [
    {
     "name": "stdout",
     "output_type": "stream",
     "text": [
      "140093551425440\n",
      "[16961912, 16961888, 16961864]\n",
      "140093380989800\n",
      "[16961912, 16961888, 16961864]\n",
      "[16961840, 16961888, 16961864]\n",
      "[16961912, 16961888, 16961864]\n",
      "[4, 2, 3]\n",
      "[1, 2, 3]\n"
     ]
    }
   ],
   "source": [
    "a = [1, 2, 3]\n",
    "print id(a)\n",
    "print [id(x) for x in a]\n",
    "\n",
    "# 深拷贝\n",
    "import copy\n",
    "b = copy.deepcopy(a)\n",
    "print id(b)\n",
    "print [id(x) for x in b]\n",
    "\n",
    "a[0] = 4\n",
    "print [id(x) for x in a]\n",
    "print [id(x) for x in b]\n",
    "print a\n",
    "print b"
   ]
  },
  {
   "cell_type": "markdown",
   "metadata": {},
   "source": [
    "下面的例子和上面的还不太一样，上面是Python中可变对象的赋值深拷贝浅拷贝，下面是**不可变对象**的赋值："
   ]
  },
  {
   "cell_type": "code",
   "execution_count": 18,
   "metadata": {
    "scrolled": true
   },
   "outputs": [
    {
     "name": "stdout",
     "output_type": "stream",
     "text": [
      "hello\n",
      "140093381307968\n",
      "hello\n",
      "140093381307968\n",
      "world\n",
      "hello\n",
      "140093381307728 140093381307968\n"
     ]
    }
   ],
   "source": [
    "a = 'hello'\n",
    "print a\n",
    "print id(a)\n",
    "\n",
    "b = a\n",
    "print b\n",
    "print id(b)\n",
    "\n",
    "a = 'world'\n",
    "\n",
    "print a\n",
    "print b\n",
    "\n",
    "print id(a), id(b)"
   ]
  }
 ],
 "metadata": {
  "anaconda-cloud": {},
  "kernelspec": {
   "display_name": "Python [conda root]",
   "language": "python",
   "name": "conda-root-py"
  },
  "language_info": {
   "codemirror_mode": {
    "name": "ipython",
    "version": 2
   },
   "file_extension": ".py",
   "mimetype": "text/x-python",
   "name": "python",
   "nbconvert_exporter": "python",
   "pygments_lexer": "ipython2",
   "version": "2.7.12"
  }
 },
 "nbformat": 4,
 "nbformat_minor": 1
}
