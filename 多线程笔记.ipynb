{
 "cells": [
  {
   "cell_type": "markdown",
   "metadata": {
    "deletable": true,
    "editable": true
   },
   "source": [
    "### Python多线程"
   ]
  },
  {
   "cell_type": "markdown",
   "metadata": {
    "deletable": true,
    "editable": true
   },
   "source": [
    "**模拟多任务**"
   ]
  },
  {
   "cell_type": "code",
   "execution_count": 12,
   "metadata": {
    "collapsed": false,
    "deletable": true,
    "editable": true,
    "scrolled": true
   },
   "outputs": [
    {
     "name": "stdout",
     "output_type": "stream",
     "text": [
      "i was listening to music. Wed Apr 19 18:18:03 2017\n",
      "i was listening to music. Wed Apr 19 18:18:04 2017\n",
      "i was listening to music. Wed Apr 19 18:18:05 2017\n",
      "i was watching movie. Wed Apr 19 18:18:06 2017\n",
      "i was watching movie. Wed Apr 19 18:18:08 2017\n",
      "i was watching movie. Wed Apr 19 18:18:10 2017\n",
      "all over Wed Apr 19 18:18:12 2017\n"
     ]
    }
   ],
   "source": [
    "from time import ctime,sleep\n",
    "\n",
    "def music():\n",
    "    for i in range(3):\n",
    "        print(\"i was listening to music. %s\" %ctime())\n",
    "        sleep(1)\n",
    "def movie():\n",
    "    for i in range(3):\n",
    "        print(\"i was watching movie. %s\" %ctime())\n",
    "        sleep(2)\n",
    "if __name__=='__main__':\n",
    "    music()\n",
    "    movie()\n",
    "    print(\"all over %s\" %ctime())"
   ]
  },
  {
   "cell_type": "markdown",
   "metadata": {
    "deletable": true,
    "editable": true
   },
   "source": [
    "**带参数的多任务**"
   ]
  },
  {
   "cell_type": "markdown",
   "metadata": {
    "deletable": true,
    "editable": true
   },
   "source": [
    "**注意：输出结果的时间间隔分别是1秒和2秒，是顺序执行的**"
   ]
  },
  {
   "cell_type": "code",
   "execution_count": 16,
   "metadata": {
    "collapsed": false,
    "deletable": true,
    "editable": true
   },
   "outputs": [
    {
     "name": "stdout",
     "output_type": "stream",
     "text": [
      "i was listening to 因为爱情. Wed Apr 19 18:22:33 2017\n",
      "i was listening to 因为爱情. Wed Apr 19 18:22:34 2017\n",
      "i was listening to 因为爱情. Wed Apr 19 18:22:35 2017\n",
      "i was watching 大话西游. Wed Apr 19 18:22:36 2017\n",
      "i was watching 大话西游. Wed Apr 19 18:22:38 2017\n",
      "i was watching 大话西游. Wed Apr 19 18:22:40 2017\n",
      "all over Wed Apr 19 18:22:42 2017\n"
     ]
    }
   ],
   "source": [
    "from time import ctime,sleep\n",
    "\n",
    "def music(func):\n",
    "    for i in range(3):\n",
    "        print(\"i was listening to %s. %s\" %(func,ctime()))\n",
    "        sleep(1)\n",
    "def movie(func):\n",
    "    for i in range(3):\n",
    "        print(\"i was watching %s. %s\" %(func,ctime()))\n",
    "        sleep(2)\n",
    "if __name__=='__main__':\n",
    "    music(u'因为爱情')\n",
    "    movie(u'大话西游')\n",
    "    print(\"all over %s\" %ctime())"
   ]
  },
  {
   "cell_type": "markdown",
   "metadata": {
    "deletable": true,
    "editable": true
   },
   "source": [
    "### 多线程实现\n",
    "Python由模块支持实现多线程，thread（在python3中改名为_thread）,threading,和 queue模块。<br>\n",
    "therad相对底层，适合高手，threading适合大部分场景下使用<br>\n",
    "通过加入queue模块，用户可以创建多个线程共享数据的队列数据结构。"
   ]
  },
  {
   "cell_type": "markdown",
   "metadata": {
    "deletable": true,
    "editable": true
   },
   "source": [
    "注意子程序调用时间，他们是同时被调用的"
   ]
  },
  {
   "cell_type": "markdown",
   "metadata": {
    "deletable": true,
    "editable": true
   },
   "source": [
    "Thread.setDaemon()和Thread.join()刚好相反，具体看下一小节<br>\n",
    "如下进程：<br>\n",
    "main是父进程<br>\n",
    "music和movie是同级的的子线程<br>\n",
    "main-->{music,movie}<br>\n"
   ]
  },
  {
   "cell_type": "code",
   "execution_count": 47,
   "metadata": {
    "collapsed": false,
    "deletable": true,
    "editable": true
   },
   "outputs": [
    {
     "name": "stdout",
     "output_type": "stream",
     "text": [
      "all over Wed Apr 19 20:32:25 2017\n",
      "I was listening to 因为爱情. Wed Apr 19 20:32:25 2017\n",
      "I was at the 大话西游! Wed Apr 19 20:32:25 2017\n",
      "\n",
      "\n",
      "\n",
      "I was listening to 因为爱情. Wed Apr 19 20:32:26 2017\n",
      "\n",
      "I was listening to 因为爱情. Wed Apr 19 20:32:27 2017\n",
      "\n",
      "I was at the 大话西游! Wed Apr 19 20:32:27 2017\n",
      "\n",
      "I was listening to 因为爱情. Wed Apr 19 20:32:28 2017\n",
      "\n",
      "I was at the 大话西游! Wed Apr 19 20:32:29 2017\n",
      "\n",
      "I was at the 大话西游! Wed Apr 19 20:32:31 2017\n",
      "\n"
     ]
    }
   ],
   "source": [
    "import threading\n",
    "from time import ctime,sleep\n",
    "def music(func):\n",
    "    for i in range(4):\n",
    "        print(\"I was listening to %s. %s\\n\" %(func,ctime()))\n",
    "        sleep(1)\n",
    "\n",
    "def movie(func):\n",
    "    for i in range(4):\n",
    "        print(\"I was at the %s! %s\\n\" %(func,ctime()))\n",
    "        sleep(2)\n",
    "# 这是一个普通List变量，本身与threading模块没有关系，但是这里是用来存放子线程的\n",
    "threads=[]\n",
    "# 开始用threading模块的方法开始建立子线程，一个线程就是即将准备运行的一段程序\n",
    "# 建立了两个线程\n",
    "# 注意args是一个元组，且即使只有一个参数，结尾也要加逗号','\n",
    "\n",
    "t1=threading.Thread(target=music,args=(u'因为爱情',))\n",
    "t2=threading.Thread(target=movie,args=(u'大话西游',))\n",
    "\n",
    "# 把线程对象放入列表，一遍同时传递\n",
    "threads.append(t1)\n",
    "threads.append(t2)\n",
    "\n",
    "if __name__ =='__main__':\n",
    "    for t in threads:\n",
    "#         把线程设置为守护进程，否则会无限挂起\n",
    "# 线程的挂起：\n",
    "# 程将挂起，则该线程处于静止状态，如果程序正在运行，将暂停执行，若处于就绪状态，则该线程暂不接受调度，与挂起对应的时激活状态。\n",
    "        t.setDaemon(True)\n",
    "        t.start()\n",
    "#     这里的巧妙在于，在这里调用t.jion()，这个时候t指的是movie，同时movie又是运行时间较长的，\n",
    "# 所以看上去父进程是等待music和movie都结束了再开始，其实它只等了movie进程，可以试着把它的时间缩短对比下就明白了\n",
    "#     t.join()\n",
    "    print('all over %s\\n'%ctime())\n",
    "        "
   ]
  },
  {
   "cell_type": "markdown",
   "metadata": {
    "deletable": true,
    "editable": true
   },
   "source": [
    "### Join()和setDaemon()"
   ]
  },
  {
   "cell_type": "markdown",
   "metadata": {
    "deletable": true,
    "editable": true
   },
   "source": [
    "**join():**<br>\n",
    "在主线程A中，创建了子线程B；<br>\n",
    "如果不调用B.join(),则主线程A不会等到B运行结束才开始运行，而是同时开始；<br>\n",
    "如果调用B.join(),则主线程会在B.join()被调用的位置原地等待，知道子线程B运行完(或者等待直到join([timeout])所指定的超时时间之后)，再继续自己的运行"
   ]
  },
  {
   "cell_type": "code",
   "execution_count": 35,
   "metadata": {
    "collapsed": false,
    "deletable": true,
    "editable": true,
    "scrolled": true
   },
   "outputs": [
    {
     "name": "stdout",
     "output_type": "stream",
     "text": [
      "myThread at: Wed Apr 19 20:16:12 2017\n",
      "myThread id: 999\n",
      "\n",
      "main procudure starts running: Wed Apr 19 20:16:17 2017\n",
      "\n",
      "0\n",
      "1\n",
      "2\n",
      "3\n",
      "4\n"
     ]
    }
   ],
   "source": [
    "import threading  \n",
    "import time  \n",
    "class MyThread(threading.Thread):  \n",
    "        def __init__(self,id):  \n",
    "                threading.Thread.__init__(self)  \n",
    "                self.id = id  \n",
    "        def run(self):  \n",
    "                x = 0  \n",
    "                print('myThread at: %s'%ctime()) \n",
    "                time.sleep(5)  \n",
    "                print('myThread id: %s\\n'%self.id)  \n",
    "  \n",
    "if __name__ == \"__main__\":  \n",
    "        t1=MyThread(999)  \n",
    "        t1.start()  \n",
    "        t1.join()\n",
    "        print('\\nmain procudure starts running: %s'%ctime())\n",
    "        for i in range(5):  \n",
    "                print(i)  "
   ]
  },
  {
   "cell_type": "markdown",
   "metadata": {
    "deletable": true,
    "editable": true
   },
   "source": [
    "**setDaemon()**：<br>\n",
    "在主线程A中，创建了子线程B；<br>\n",
    "并且在主线程A中调用了B.setDaemon(),这个的意思是，把主线程A设置为守护线程（**注意逻辑：调用了B.setDaemon()，反而设置的是A**）；<br>\n",
    "这时候，要是主线程A执行结束了，就不管子线程B是否完成,一并和主线程A退出.这就是setDaemon方法的含义，这基本和join是相反的。\n",
    "> 此外，还有个要特别注意的：必须在start() 方法调用之前设置，如果不设置为守护线程，程序会被无限挂起。"
   ]
  },
  {
   "cell_type": "code",
   "execution_count": 4,
   "metadata": {
    "collapsed": false,
    "deletable": true,
    "editable": true
   },
   "outputs": [
    {
     "name": "stdout",
     "output_type": "stream",
     "text": [
      "I am the father thread.\n",
      "This is Thread-9\n"
     ]
    }
   ],
   "source": [
    "import threading  \n",
    "import time  \n",
    "class MyThread(threading.Thread):  \n",
    "        def __init__(self,id):  \n",
    "                threading.Thread.__init__(self)  \n",
    "        def run(self):  \n",
    "                time.sleep(5)  \n",
    "                print(\"This is \" + self.getName()  )\n",
    "   \n",
    "if __name__ == \"__main__\":  \n",
    "        t1=MyThread(999)  \n",
    "        t1.setDaemon(True)  \n",
    "        t1.daemon=True\n",
    "        t1.start()  \n",
    "        print(\"I am the father thread.\" ) "
   ]
  },
  {
   "cell_type": "markdown",
   "metadata": {
    "deletable": true,
    "editable": true
   },
   "source": [
    "但是这里子线程在主线程结束后，依旧继续执行，原因是我们现在是**交互式模式**，就是一行一行代码的模式，这个模式下只有退出Python.exe，主线程才算被结束了；\n",
    "另外一种模式叫**脚本模式**，就是把Python代码保存为.py的代码文件，然后用Python xxx.py,这个时候就能体现效果。"
   ]
  },
  {
   "cell_type": "markdown",
   "metadata": {
    "deletable": true,
    "editable": true
   },
   "source": [
    "上面的threading模块确实实现了多线程，但是：由于GIL全局锁的作用，在同一时间，Python依旧只能让一个线程运行，性能并不能提升，而且也无法利用多核CPU的性能。<br>\n",
    "那么，上面的多线程不能全面提升性能，只能在特定场景起作用，比如爬虫爬网页的时候的并行下载计算。"
   ]
  },
  {
   "cell_type": "markdown",
   "metadata": {
    "deletable": true,
    "editable": true
   },
   "source": [
    "### 注意这一段代码无法正常运行"
   ]
  },
  {
   "cell_type": "markdown",
   "metadata": {
    "deletable": true,
    "editable": true
   },
   "source": [
    "多线程这条路走不通，那么还有一条路，就是并行计算，就是在电脑上同时启动多个Python.exe进程，这本质上不是多线程，而是多进程，类似于玩游戏时候的多开。<br>\n",
    "多进程的操作模块是multiprocessing，它可以实现并行计算，但是可能是因为有些bug,我测试的时候无法正常运行，google搜到也有人说这个模块有bug"
   ]
  },
  {
   "cell_type": "code",
   "execution_count": null,
   "metadata": {
    "collapsed": true,
    "deletable": true,
    "editable": true
   },
   "outputs": [],
   "source": [
    "import multiprocessing as mp\n",
    "\n",
    "def foo(q):\n",
    "    q.put('hello')\n",
    "\n",
    "if __name__ == '__main__':\n",
    "    mp.set_start_method('spawn')\n",
    "    q = mp.Queue()\n",
    "    p = mp.Process(target=foo, args=(q,))\n",
    "    p.start()\n",
    "    print(q.get())\n",
    "    p.join()"
   ]
  },
  {
   "cell_type": "markdown",
   "metadata": {
    "deletable": true,
    "editable": true
   },
   "source": [
    "### pp模块实现并行计算"
   ]
  },
  {
   "cell_type": "markdown",
   "metadata": {
    "deletable": true,
    "editable": true
   },
   "source": [
    "#### 介绍、安装"
   ]
  },
  {
   "cell_type": "markdown",
   "metadata": {
    "deletable": true,
    "editable": true
   },
   "source": [
    "pp模块，就是Parallel Python。分为Python3.x和Python2.x版本，下载下来，然后安装，为什么不直接使用pip install pp?这个我试了，安装失败，所以直接下载源文件进行安排。然后通过setup.py进行安装，先进入下载的包的目录(setup.py所在目录)，然后执行python setup.py install。<br>\n",
    "[官网](http://www.parallelpython.com/content/view/18/32/)<br>\n",
    "#### 相关资源\n",
    "- http://rfyiamcool.blog.51cto.com/1030776/1357112\n",
    "- http://blog.csdn.net/rumswell/article/details/7324518\n",
    "- http://www.bubuko.com/infodetail-899846.html"
   ]
  },
  {
   "cell_type": "markdown",
   "metadata": {
    "deletable": true,
    "editable": true
   },
   "source": [
    "#### 普通模式"
   ]
  },
  {
   "cell_type": "code",
   "execution_count": 1,
   "metadata": {
    "collapsed": false,
    "deletable": true,
    "editable": true
   },
   "outputs": [
    {
     "name": "stdout",
     "output_type": "stream",
     "text": [
      "Sum of primes below 100000 is 454396537\n",
      "Sum of primes below 100100 is 454996777\n",
      "Sum of primes below 100200 is 455898156\n",
      "Sum of primes below 100300 is 456700218\n",
      "Sum of primes below 100400 is 457603451\n",
      "Sum of primes below 100500 is 458407033\n",
      "Sum of primes below 100600 is 459412387\n",
      "Sum of primes below 100700 is 460217613\n",
      "Time elapsed:  2.680223226547241 s\n"
     ]
    }
   ],
   "source": [
    "# sum_primes_without_pp.py  \n",
    "import math, sys, time  \n",
    "  \n",
    "def isprime(n):  \n",
    "    \"\"\"Returns True if n is prime and False otherwise\"\"\"  \n",
    "    if not isinstance(n, int):  \n",
    "        raise TypeError(\"argument passed to is_prime is not of 'int' type\")  \n",
    "    if n < 2:  \n",
    "        return False  \n",
    "    if n == 2:  \n",
    "        return True  \n",
    "    max = int(math.ceil(math.sqrt(n)))  \n",
    "    i = 2  \n",
    "    while i <= max:  \n",
    "        if n % i == 0:  \n",
    "            return False  \n",
    "        i += 1  \n",
    "    return True  \n",
    "  \n",
    "def sum_primes(n):  \n",
    "    \"\"\"Calculates sum of all primes below given integer n\"\"\"  \n",
    "    return sum([x for x in range(2,n) if isprime(x)])  \n",
    "  \n",
    "  \n",
    "start_time = time.time()  \n",
    "inputs = (100000, 100100, 100200, 100300, 100400, 100500, 100600, 100700)  \n",
    "for input in inputs:  \n",
    "    print(\"Sum of primes below\", input, \"is\", sum_primes(input)  )\n",
    "  \n",
    "print(\"Time elapsed: \", time.time() - start_time, \"s\" ) "
   ]
  },
  {
   "cell_type": "markdown",
   "metadata": {
    "deletable": true,
    "editable": true
   },
   "source": [
    "#### 并行计算模式对比\n",
    "下面这段程序线用普通模式，依次计算，输出计算时间，然后开启并行计算，再次输出计算时间进行对比\n",
    "程序运行成功的话，打开任务管理器，会发现进程里多出了很多个python.exe进程，这就是并行计算，而且他们是被分配到每个独立的CPU核心的，如果计算量大，可以同时占用所有CPU。"
   ]
  },
  {
   "cell_type": "markdown",
   "metadata": {},
   "source": [
    "job_server.submit((目标函数)，(目标函数参数)，(目标函数调用的函数)，(目标函数所调用的模块))<br>\n",
    "job = job_server.submit(function, (paras,), (called-functions,), (imports,))<br>\n",
    "参数全部必须是tuple类型"
   ]
  },
  {
   "cell_type": "code",
   "execution_count": 2,
   "metadata": {
    "collapsed": false,
    "deletable": true,
    "editable": true,
    "scrolled": true
   },
   "outputs": [
    {
     "name": "stdout",
     "output_type": "stream",
     "text": [
      "454396537\n",
      "454996777\n",
      "455898156\n",
      "456700218\n",
      "457603451\n",
      "458407033\n",
      "459412387\n",
      "460217613\n",
      "单线程执行，总耗时 41.97292137145996 s\n",
      "pp 可以用的工作核心线程数 8 workers\n",
      "Sum of primes below 100000 is 454396537\n",
      "Sum of primes below 100100 is 454996777\n",
      "Sum of primes below 100200 is 455898156\n",
      "Sum of primes below 100300 is 456700218\n",
      "Sum of primes below 100400 is 457603451\n",
      "Sum of primes below 100500 is 458407033\n",
      "Sum of primes below 100600 is 459412387\n",
      "Sum of primes below 100700 is 460217613\n",
      "多线程下执行耗时:  11.16439151763916 s\n",
      "Job execution statistics:\n",
      " job count | % of all jobs | job time sum | time per job | job server\n",
      "         8 |        100.00 |      88.7608 |    11.095101 | local\n",
      "Time elapsed since server creation 11.164905786514282\n",
      "0 active tasks, 8 cores\n",
      "\n"
     ]
    }
   ],
   "source": [
    "#-*- coding: UTF-8 -*-\n",
    "import math, sys, time\n",
    "import pp\n",
    "def IsPrime(n):\n",
    "    \"\"\"返回n是否是素数\"\"\"\n",
    "    if not isinstance(n, int):\n",
    "        raise TypeError(\"argument passed to is_prime is not of 'int' type\")\n",
    "    if n < 2:\n",
    "        return False\n",
    "    if n == 2:\n",
    "        return True\n",
    "    max = int(math.ceil(math.sqrt(n)))\n",
    "    i = 2\n",
    "    while i <= max:\n",
    "        if n % i == 0:\n",
    "            return False\n",
    "        i += 1\n",
    "    return True\n",
    "def SumPrimes(n):\n",
    "    for i in range(15):\n",
    "        sum([x for x in range(2,n) if IsPrime(x)])\n",
    "    \"\"\"计算从2-n之间的所有素数之和\"\"\"\n",
    "    return sum([x for x in range(2,n) if IsPrime(x)])\n",
    "inputs = (100000, 100100, 100200, 100300, 100400, 100500, 100600, 100700)\n",
    "start_time = time.time()\n",
    "for input in inputs:\n",
    "    print(SumPrimes(input))\n",
    "print('单线程执行，总耗时', time.time() - start_time, 's')\n",
    "# tuple of all parallel python servers to connect with\n",
    "ppservers = ()\n",
    "#ppservers = (\"10.0.0.1\",)\n",
    "if len(sys.argv) > 1:\n",
    "#     ncpus = int(sys.argv[1])\n",
    "#     指定CPU核心数，如果程序计算量很大，建议不要全部用满，否则可能出现电脑卡顿的现象，可以留出一个核心给系统\n",
    "#     比如你是8核CPU，最大使用7个就好\n",
    "    ncpus=8\n",
    "    # Creates jobserver with ncpus workers\n",
    "#     开启服务\n",
    "    job_server = pp.Server(ncpus, ppservers=ppservers)\n",
    "else:\n",
    "    # Creates jobserver with automatically detected number of workers\n",
    "#     自动识别系统CPU核心数目，自动生成对应数量的进程\n",
    "    job_server = pp.Server(ppservers=ppservers)\n",
    "print(\"pp 可以用的工作核心线程数\", job_server.get_ncpus(), \"workers\")\n",
    "start_time = time.time()\n",
    "# job_server.submit()函数，它的每一个参数都必须是元组，即tuple，\n",
    "# 所以要加上括号()，而且，即使只有一个值，后面也要跟上逗号，如果没有值，放一个空的括号即可\n",
    "# 每个参数的含义，去官网查看即可\n",
    "jobs = [(input, job_server.submit(SumPrimes,(input,), (IsPrime,), (\"math\",))) for input in inputs]\n",
    "# 进程生成了之后，还没有开始执行，所以需要调用启动它，调用的方法如下，当做函数来调用，即把进程对象名字加上一个括号即可。\n",
    "for input, job in jobs:\n",
    "    print(\"Sum of primes below\", input, \"is\", job())\n",
    "print(\"多线程下执行耗时: \", time.time() - start_time, \"s\")\n",
    "# 输出并行计算性能数据\n",
    "job_server.print_stats()"
   ]
  },
  {
   "cell_type": "markdown",
   "metadata": {},
   "source": [
    "#### 其他注意事项\n",
    "- 以上是一个Demo，实际应用的话，要考虑自己程序的实际，合理设置参数\n",
    "- 特别是依赖的包，尽量使用原名，因为开启多进程后，每个进程就独立运行了，无法像一个Python一样顺利找到这些包，比如，我们通常用import pandas as pd，然后使用pd.read_csv()这样的方式，通常这样的写法pp模块会提示无法找到'pd'模块，因为开启多个进程后，这个别名无法正常找到，所以，直接改成pandas.read_csv()就可以了。\n",
    "- 另外是变量，也要注意，如果出错，提升某个变量未定义，直接尝试不用变量，或者在程序内部就近定义变量<br>\n",
    "> 下面这个是我自己的提取用户行为数据的例子，大家和官网文档一起参照体会，很快就能懂了"
   ]
  },
  {
   "cell_type": "code",
   "execution_count": null,
   "metadata": {
    "collapsed": true
   },
   "outputs": [],
   "source": [
    "import pp\n",
    "from time import ctime\n",
    "import time\n",
    "import pandas\n",
    "\n",
    "auu=pd.read_csv(datas[9])\n",
    "datas=['actions_all_u.csv','actions_sort_by_user_id.csv','JData_Action_201602.csv','JData_Action_201603.csv','JData_Action_201604.csv',\n",
    "       'JData_Comment.csv','JData_Product.csv','JData_User.csv','users1.csv','ac_after_4_10.csv','user_after_4_10.csv']\n",
    "data4=['user_after_4_10_2.csv','user_after_4_10_3.csv','user_after_4_10_4.csv','user_after_4_10_5.csv','user_after_4_10_6.csv']\n",
    "def extract_user(f):\n",
    "    auu=pandas.read_csv('ac_after_4_10.csv')\n",
    "    for i in f.index:\n",
    "        x=f.iloc[i].user_id\n",
    "        print(x)\n",
    "        auu.loc[auu['user_id']==x].to_csv(r\".\\u_after_410\\U_%d.csv\"%x)\n",
    "\n",
    "# 进程元组\n",
    "ppservers = ()\n",
    "#   number of kernels of this computer\n",
    "ncpus=5\n",
    "# Creates jobserver with ncpus workers\n",
    "job_server = pp.Server(ncpus, ppservers=ppservers)\n",
    "# Creates jobserver with automatically detected number of workers\n",
    "#job_server = pp.Server(ppservers=ppservers)\n",
    "print(\"pp 可以用的工作核心线程数\", job_server.get_ncpus(), \"workers\")\n",
    "start_time = time.time()\n",
    "jobs=[]\n",
    "for u in data4:\n",
    "    f=pandas.read_csv(u)\n",
    "    jobs.append(job_server.submit((extract_user),(f,),(),(\"pandas\",)))\n",
    "    \n",
    "for job in jobs:\n",
    "    job()\n",
    "print(\"多线程下执行耗时: \", time.time() - start_time, \"s\")\n",
    "job_server.print_stats()\n",
    "print('done %s'%ctime())"
   ]
  }
 ],
 "metadata": {
  "kernelspec": {
   "display_name": "Python 3",
   "language": "python",
   "name": "python3"
  },
  "language_info": {
   "codemirror_mode": {
    "name": "ipython",
    "version": 3
   },
   "file_extension": ".py",
   "mimetype": "text/x-python",
   "name": "python",
   "nbconvert_exporter": "python",
   "pygments_lexer": "ipython3",
   "version": "3.6.1"
  }
 },
 "nbformat": 4,
 "nbformat_minor": 2
}
